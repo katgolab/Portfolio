{
 "cells": [
  {
   "cell_type": "markdown",
   "metadata": {},
   "source": [
    "This project presents an analysis of a retail sales database, focusing on customer profitability, inventory management, and customer purchase trends. Using SQL within a Jupyter Notebook environment, I examined key metrics such as the number of customers, products, and transactions, as well as the distribution of profits among top clients. The analysis identifies high-value customers, highlights products at risk of stockouts, and evaluates customer lifetime value (LTV), which represents the average amount of money a customer generates."
   ]
  },
  {
   "cell_type": "code",
   "execution_count": 11,
   "metadata": {},
   "outputs": [
    {
     "name": "stdout",
     "output_type": "stream",
     "text": [
      "The sql extension is already loaded. To reload it, use:\n",
      "  %reload_ext sql\n"
     ]
    }
   ],
   "source": [
    "!wget -q -O stores.db https://dq-content.s3.amazonaws.com/600/stores.db\n",
    "%load_ext sql\n",
    "%sql sqlite:///stores.db"
   ]
  },
  {
   "cell_type": "code",
   "execution_count": null,
   "metadata": {},
   "outputs": [
    {
     "name": "stdout",
     "output_type": "stream",
     "text": [
      " * sqlite:///stores.db\n",
      "Done.\n"
     ]
    },
    {
     "data": {
      "text/html": [
       "<table>\n",
       "    <thead>\n",
       "        <tr>\n",
       "            <th>table_name</th>\n",
       "            <th>number_of_attributes</th>\n",
       "            <th>number_of_rows</th>\n",
       "        </tr>\n",
       "    </thead>\n",
       "    <tbody>\n",
       "        <tr>\n",
       "            <td>Customers</td>\n",
       "            <td>13</td>\n",
       "            <td>122</td>\n",
       "        </tr>\n",
       "        <tr>\n",
       "            <td>Products</td>\n",
       "            <td>9</td>\n",
       "            <td>110</td>\n",
       "        </tr>\n",
       "        <tr>\n",
       "            <td>ProductLines</td>\n",
       "            <td>4</td>\n",
       "            <td>7</td>\n",
       "        </tr>\n",
       "        <tr>\n",
       "            <td>Orders</td>\n",
       "            <td>7</td>\n",
       "            <td>326</td>\n",
       "        </tr>\n",
       "        <tr>\n",
       "            <td>OrderDetails</td>\n",
       "            <td>5</td>\n",
       "            <td>2996</td>\n",
       "        </tr>\n",
       "        <tr>\n",
       "            <td>Payments</td>\n",
       "            <td>4</td>\n",
       "            <td>273</td>\n",
       "        </tr>\n",
       "        <tr>\n",
       "            <td>Employees</td>\n",
       "            <td>8</td>\n",
       "            <td>23</td>\n",
       "        </tr>\n",
       "        <tr>\n",
       "            <td>Offices</td>\n",
       "            <td>9</td>\n",
       "            <td>7</td>\n",
       "        </tr>\n",
       "    </tbody>\n",
       "</table>"
      ],
      "text/plain": [
       "[('Customers', 13, 122),\n",
       " ('Products', 9, 110),\n",
       " ('ProductLines', 4, 7),\n",
       " ('Orders', 7, 326),\n",
       " ('OrderDetails', 5, 2996),\n",
       " ('Payments', 4, 273),\n",
       " ('Employees', 8, 23),\n",
       " ('Offices', 9, 7)]"
      ]
     },
     "execution_count": 2,
     "metadata": {},
     "output_type": "execute_result"
    }
   ],
   "source": [
    "%%sql\n",
    "SELECT 'Customers' AS table_name, 13 AS number_of_attributes, COUNT(*) AS number_of_rows \n",
    "  FROM Customers\n",
    " UNION ALL\n",
    " \n",
    "SELECT 'Products' AS table_name, 9 AS number_of_attributes, COUNT(*) AS number_of_rows \n",
    "  FROM Products\n",
    " UNION ALL\n",
    " \n",
    "SELECT 'ProductLines' AS table_name, 4 AS number_of_attributes, COUNT(*) AS number_of_rows \n",
    "  FROM ProductLines\n",
    " UNION ALL\n",
    " \n",
    "SELECT 'Orders' AS table_name, 7 AS number_of_attributes, COUNT(*) AS number_of_rows \n",
    "  FROM Orders\n",
    " UNION ALL\n",
    " \n",
    "SELECT 'OrderDetails' AS table_name, 5 AS number_of_attributes, COUNT(*) AS number_of_rows \n",
    "  FROM OrderDetails\n",
    " UNION ALL\n",
    " \n",
    "SELECT 'Payments' AS table_name, 4 AS number_of_attributes, COUNT(*) AS number_of_rows \n",
    "  FROM Payments\n",
    " UNION ALL\n",
    " \n",
    "SELECT 'Employees' AS table_name, 8 AS number_of_attributes, COUNT(*) AS number_of_rows \n",
    "  FROM Employees\n",
    " UNION ALL\n",
    " \n",
    "SELECT 'Offices' AS table_name, 9 AS number_of_attributes, COUNT(*) AS number_of_rows \n",
    "  FROM Offices"
   ]
  },
  {
   "cell_type": "markdown",
   "metadata": {},
   "source": [
    "The dataset from the stores.db database provides an overview of a retail business, including customers, products, orders, payments, employees, and offices. The database consists of 8 main tables, with the largest being OrderDetails (2,996 rows) and Orders (326 rows), indicating a substantial volume of transactional data. The Customers table contains 122 entries, while Products lists 110 unique items, reflecting a diverse product portfolio and customer base."
   ]
  },
  {
   "cell_type": "markdown",
   "metadata": {},
   "source": [
    "## low stock"
   ]
  },
  {
   "cell_type": "code",
   "execution_count": 3,
   "metadata": {},
   "outputs": [
    {
     "name": "stdout",
     "output_type": "stream",
     "text": [
      " * sqlite:///stores.db\n",
      "Done.\n"
     ]
    },
    {
     "data": {
      "text/html": [
       "<table>\n",
       "    <thead>\n",
       "        <tr>\n",
       "            <th>productCode</th>\n",
       "            <th>low_stock</th>\n",
       "        </tr>\n",
       "    </thead>\n",
       "    <tbody>\n",
       "        <tr>\n",
       "            <td>S18_1984</td>\n",
       "            <td>0.09</td>\n",
       "        </tr>\n",
       "        <tr>\n",
       "            <td>S24_3432</td>\n",
       "            <td>0.09</td>\n",
       "        </tr>\n",
       "        <tr>\n",
       "            <td>S12_2823</td>\n",
       "            <td>0.1</td>\n",
       "        </tr>\n",
       "        <tr>\n",
       "            <td>S12_3380</td>\n",
       "            <td>0.1</td>\n",
       "        </tr>\n",
       "        <tr>\n",
       "            <td>S18_1589</td>\n",
       "            <td>0.1</td>\n",
       "        </tr>\n",
       "        <tr>\n",
       "            <td>S18_2325</td>\n",
       "            <td>0.1</td>\n",
       "        </tr>\n",
       "        <tr>\n",
       "            <td>S18_2870</td>\n",
       "            <td>0.1</td>\n",
       "        </tr>\n",
       "        <tr>\n",
       "            <td>S18_3482</td>\n",
       "            <td>0.1</td>\n",
       "        </tr>\n",
       "        <tr>\n",
       "            <td>S32_2206</td>\n",
       "            <td>0.1</td>\n",
       "        </tr>\n",
       "        <tr>\n",
       "            <td>S700_2466</td>\n",
       "            <td>0.1</td>\n",
       "        </tr>\n",
       "    </tbody>\n",
       "</table>"
      ],
      "text/plain": [
       "[('S18_1984', 0.09),\n",
       " ('S24_3432', 0.09),\n",
       " ('S12_2823', 0.1),\n",
       " ('S12_3380', 0.1),\n",
       " ('S18_1589', 0.1),\n",
       " ('S18_2325', 0.1),\n",
       " ('S18_2870', 0.1),\n",
       " ('S18_3482', 0.1),\n",
       " ('S32_2206', 0.1),\n",
       " ('S700_2466', 0.1)]"
      ]
     },
     "execution_count": 3,
     "metadata": {},
     "output_type": "execute_result"
    }
   ],
   "source": [
    "%%sql\n",
    "\n",
    "SELECT productCode, ROUND(SUM(quantityOrdered) * 1.0 / (SELECT quantityInStock\n",
    "                                                       FROM products\n",
    "                                                       WHERE orderdetails.productCode = products.productCode), 2) AS low_stock\n",
    "FROM orderdetails\n",
    "GROUP BY productCode\n",
    "ORDER BY low_stock\n",
    "LIMIT 10;"
   ]
  },
  {
   "cell_type": "markdown",
   "metadata": {},
   "source": [
    "Low Stock Products: Several products, such as S18_1984 and S24_3432, have a low stock ratio (quantityOrdered / quantityInStock) (as low as 0.09), highlighting the need for timely restocking and potential challanges with inventory management."
   ]
  },
  {
   "cell_type": "markdown",
   "metadata": {},
   "source": [
    "## product performance"
   ]
  },
  {
   "cell_type": "code",
   "execution_count": 13,
   "metadata": {},
   "outputs": [
    {
     "name": "stdout",
     "output_type": "stream",
     "text": [
      " * sqlite:///stores.db\n",
      "Done.\n"
     ]
    },
    {
     "data": {
      "text/html": [
       "<table>\n",
       "    <thead>\n",
       "        <tr>\n",
       "            <th>productCode</th>\n",
       "            <th>prod_perf</th>\n",
       "        </tr>\n",
       "    </thead>\n",
       "    <tbody>\n",
       "        <tr>\n",
       "            <td>S18_3232</td>\n",
       "            <td>276839.98</td>\n",
       "        </tr>\n",
       "        <tr>\n",
       "            <td>S12_1108</td>\n",
       "            <td>190755.86000000002</td>\n",
       "        </tr>\n",
       "        <tr>\n",
       "            <td>S10_1949</td>\n",
       "            <td>190017.96</td>\n",
       "        </tr>\n",
       "        <tr>\n",
       "            <td>S10_4698</td>\n",
       "            <td>170686.0</td>\n",
       "        </tr>\n",
       "        <tr>\n",
       "            <td>S12_1099</td>\n",
       "            <td>161531.48</td>\n",
       "        </tr>\n",
       "        <tr>\n",
       "            <td>S12_3891</td>\n",
       "            <td>152543.02</td>\n",
       "        </tr>\n",
       "        <tr>\n",
       "            <td>S18_1662</td>\n",
       "            <td>144959.91</td>\n",
       "        </tr>\n",
       "        <tr>\n",
       "            <td>S18_2238</td>\n",
       "            <td>142530.63</td>\n",
       "        </tr>\n",
       "        <tr>\n",
       "            <td>S18_1749</td>\n",
       "            <td>140535.6</td>\n",
       "        </tr>\n",
       "        <tr>\n",
       "            <td>S12_2823</td>\n",
       "            <td>135767.03</td>\n",
       "        </tr>\n",
       "    </tbody>\n",
       "</table>"
      ],
      "text/plain": [
       "[('S18_3232', 276839.98),\n",
       " ('S12_1108', 190755.86000000002),\n",
       " ('S10_1949', 190017.96),\n",
       " ('S10_4698', 170686.0),\n",
       " ('S12_1099', 161531.48),\n",
       " ('S12_3891', 152543.02),\n",
       " ('S18_1662', 144959.91),\n",
       " ('S18_2238', 142530.63),\n",
       " ('S18_1749', 140535.6),\n",
       " ('S12_2823', 135767.03)]"
      ]
     },
     "execution_count": 13,
     "metadata": {},
     "output_type": "execute_result"
    }
   ],
   "source": [
    "%%sql\n",
    "SELECT productCode, \n",
    "       SUM(quantityOrdered * priceEach) AS prod_perf\n",
    "  FROM orderdetails od\n",
    " GROUP BY productCode \n",
    " ORDER BY prod_perf DESC\n",
    " LIMIT 10;"
   ]
  },
  {
   "cell_type": "markdown",
   "metadata": {},
   "source": [
    "The top-performing products generate significantly higher revenue than others. Focusing marketing efforts and stock availability on these bestsellers can further boost sales and profitability. "
   ]
  },
  {
   "cell_type": "markdown",
   "metadata": {},
   "source": [
    "## product line performance"
   ]
  },
  {
   "cell_type": "code",
   "execution_count": 23,
   "metadata": {},
   "outputs": [
    {
     "name": "stdout",
     "output_type": "stream",
     "text": [
      " * sqlite:///stores.db\n",
      "Done.\n"
     ]
    },
    {
     "data": {
      "text/html": [
       "<table>\n",
       "    <thead>\n",
       "        <tr>\n",
       "            <th>productName</th>\n",
       "            <th>productCode</th>\n",
       "            <th>productLine</th>\n",
       "            <th>productCode_1</th>\n",
       "            <th>product_performence</th>\n",
       "        </tr>\n",
       "    </thead>\n",
       "    <tbody>\n",
       "        <tr>\n",
       "            <td>2002 Suzuki XREO</td>\n",
       "            <td>S12_2823</td>\n",
       "            <td>Motorcycles</td>\n",
       "            <td>S12_2823</td>\n",
       "            <td>135767.03</td>\n",
       "        </tr>\n",
       "        <tr>\n",
       "            <td>1976 Ford Gran Torino</td>\n",
       "            <td>S18_3482</td>\n",
       "            <td>Classic Cars</td>\n",
       "            <td>S18_3482</td>\n",
       "            <td>121890.59999999999</td>\n",
       "        </tr>\n",
       "        <tr>\n",
       "            <td>1995 Honda Civic</td>\n",
       "            <td>S18_1984</td>\n",
       "            <td>Classic Cars</td>\n",
       "            <td>S18_1984</td>\n",
       "            <td>119050.95</td>\n",
       "        </tr>\n",
       "        <tr>\n",
       "            <td>1932 Model A Ford J-Coupe</td>\n",
       "            <td>S18_2325</td>\n",
       "            <td>Vintage Cars</td>\n",
       "            <td>S18_2325</td>\n",
       "            <td>109992.01</td>\n",
       "        </tr>\n",
       "        <tr>\n",
       "            <td>1965 Aston Martin DB5</td>\n",
       "            <td>S18_1589</td>\n",
       "            <td>Classic Cars</td>\n",
       "            <td>S18_1589</td>\n",
       "            <td>101778.13</td>\n",
       "        </tr>\n",
       "        <tr>\n",
       "            <td>1999 Indy 500 Monte Carlo SS</td>\n",
       "            <td>S18_2870</td>\n",
       "            <td>Classic Cars</td>\n",
       "            <td>S18_2870</td>\n",
       "            <td>100770.12</td>\n",
       "        </tr>\n",
       "        <tr>\n",
       "            <td>1968 Dodge Charger</td>\n",
       "            <td>S12_3380</td>\n",
       "            <td>Classic Cars</td>\n",
       "            <td>S12_3380</td>\n",
       "            <td>98718.76</td>\n",
       "        </tr>\n",
       "        <tr>\n",
       "            <td>America West Airlines B757-200</td>\n",
       "            <td>S700_2466</td>\n",
       "            <td>Planes</td>\n",
       "            <td>S700_2466</td>\n",
       "            <td>89347.8</td>\n",
       "        </tr>\n",
       "        <tr>\n",
       "            <td>2002 Chevy Corvette</td>\n",
       "            <td>S24_3432</td>\n",
       "            <td>Classic Cars</td>\n",
       "            <td>S24_3432</td>\n",
       "            <td>87404.81</td>\n",
       "        </tr>\n",
       "        <tr>\n",
       "            <td>1982 Ducati 996 R</td>\n",
       "            <td>S32_2206</td>\n",
       "            <td>Motorcycles</td>\n",
       "            <td>S32_2206</td>\n",
       "            <td>33268.76</td>\n",
       "        </tr>\n",
       "    </tbody>\n",
       "</table>"
      ],
      "text/plain": [
       "[('2002 Suzuki XREO', 'S12_2823', 'Motorcycles', 'S12_2823', 135767.03),\n",
       " ('1976 Ford Gran Torino', 'S18_3482', 'Classic Cars', 'S18_3482', 121890.59999999999),\n",
       " ('1995 Honda Civic', 'S18_1984', 'Classic Cars', 'S18_1984', 119050.95),\n",
       " ('1932 Model A Ford J-Coupe', 'S18_2325', 'Vintage Cars', 'S18_2325', 109992.01),\n",
       " ('1965 Aston Martin DB5', 'S18_1589', 'Classic Cars', 'S18_1589', 101778.13),\n",
       " ('1999 Indy 500 Monte Carlo SS', 'S18_2870', 'Classic Cars', 'S18_2870', 100770.12),\n",
       " ('1968 Dodge Charger', 'S12_3380', 'Classic Cars', 'S12_3380', 98718.76),\n",
       " ('America West Airlines B757-200', 'S700_2466', 'Planes', 'S700_2466', 89347.8),\n",
       " ('2002 Chevy Corvette', 'S24_3432', 'Classic Cars', 'S24_3432', 87404.81),\n",
       " ('1982 Ducati 996 R', 'S32_2206', 'Motorcycles', 'S32_2206', 33268.76)]"
      ]
     },
     "execution_count": 23,
     "metadata": {},
     "output_type": "execute_result"
    }
   ],
   "source": [
    "%%sql\n",
    "\n",
    "WITH low_stock AS (\n",
    "SELECT productCode, ROUND(SUM(quantityOrdered) * 1.0 / (SELECT quantityInStock\n",
    "                                                       FROM products\n",
    "                                                       WHERE orderdetails.productCode = products.productCode), 2) AS low_stock\n",
    "FROM orderdetails\n",
    "GROUP BY productCode\n",
    "ORDER BY low_stock\n",
    "LIMIT 10)\n",
    "\n",
    "SELECT products.productName, products.productCode, products.productLine, products.productCode, SUM(orderdetails.quantityOrdered * orderdetails.priceEach) AS product_performence\n",
    "FROM orderdetails\n",
    "JOIN products\n",
    "ON products.productCode = orderdetails.productCode\n",
    "WHERE orderdetails.productCode IN (SELECT productCode FROM low_stock)\n",
    "\n",
    "GROUP BY orderdetails.productCode\n",
    "ORDER BY product_performence DESC;"
   ]
  },
  {
   "cell_type": "markdown",
   "metadata": {},
   "source": [
    "Classic Cars and Motorcycles dominate the list of top-performing products, indicating strong customer preference for these categories"
   ]
  },
  {
   "cell_type": "markdown",
   "metadata": {},
   "source": [
    "## most profitable customers"
   ]
  },
  {
   "cell_type": "code",
   "execution_count": 22,
   "metadata": {},
   "outputs": [
    {
     "name": "stdout",
     "output_type": "stream",
     "text": [
      " * sqlite:///stores.db\n",
      "Done.\n"
     ]
    },
    {
     "data": {
      "text/html": [
       "<table>\n",
       "    <thead>\n",
       "        <tr>\n",
       "            <th>customerName</th>\n",
       "            <th>customerNumber</th>\n",
       "            <th>contactFirstName</th>\n",
       "            <th>contactLastName</th>\n",
       "            <th>country</th>\n",
       "            <th>profit</th>\n",
       "        </tr>\n",
       "    </thead>\n",
       "    <tbody>\n",
       "        <tr>\n",
       "            <td>Euro+ Shopping Channel</td>\n",
       "            <td>141</td>\n",
       "            <td>Diego </td>\n",
       "            <td>Freyre</td>\n",
       "            <td>Spain</td>\n",
       "            <td>326519.66</td>\n",
       "        </tr>\n",
       "        <tr>\n",
       "            <td>Mini Gifts Distributors Ltd.</td>\n",
       "            <td>124</td>\n",
       "            <td>Susan</td>\n",
       "            <td>Nelson</td>\n",
       "            <td>USA</td>\n",
       "            <td>236769.39</td>\n",
       "        </tr>\n",
       "        <tr>\n",
       "            <td>Muscle Machine Inc</td>\n",
       "            <td>151</td>\n",
       "            <td>Jeff</td>\n",
       "            <td>Young</td>\n",
       "            <td>USA</td>\n",
       "            <td>72370.09</td>\n",
       "        </tr>\n",
       "        <tr>\n",
       "            <td>Australian Collectors, Co.</td>\n",
       "            <td>114</td>\n",
       "            <td>Peter</td>\n",
       "            <td>Ferguson</td>\n",
       "            <td>Australia</td>\n",
       "            <td>70311.07</td>\n",
       "        </tr>\n",
       "        <tr>\n",
       "            <td>La Rochelle Gifts</td>\n",
       "            <td>119</td>\n",
       "            <td>Janine </td>\n",
       "            <td>Labrune</td>\n",
       "            <td>France</td>\n",
       "            <td>60875.3</td>\n",
       "        </tr>\n",
       "    </tbody>\n",
       "</table>"
      ],
      "text/plain": [
       "[('Euro+ Shopping Channel', 141, 'Diego ', 'Freyre', 'Spain', 326519.66),\n",
       " ('Mini Gifts Distributors Ltd.', 124, 'Susan', 'Nelson', 'USA', 236769.39),\n",
       " ('Muscle Machine Inc', 151, 'Jeff', 'Young', 'USA', 72370.09),\n",
       " ('Australian Collectors, Co.', 114, 'Peter', 'Ferguson', 'Australia', 70311.07),\n",
       " ('La Rochelle Gifts', 119, 'Janine ', 'Labrune', 'France', 60875.3)]"
      ]
     },
     "execution_count": 22,
     "metadata": {},
     "output_type": "execute_result"
    }
   ],
   "source": [
    "%%sql\n",
    "WITH customer_orders AS (\n",
    "  SELECT orders.customerNumber, SUM(quantityOrdered * (priceEach - buyPrice)) AS profit\n",
    "  FROM products\n",
    "  JOIN orderdetails\n",
    "  ON products.productCode = orderdetails.productCode\n",
    "  JOIN orders\n",
    "  ON orders.orderNumber = orderdetails.orderNumber\n",
    "  GROUP BY orders.customerNumber\n",
    ")\n",
    "\n",
    "SELECT c.customerName, c.customerNumber, c.contactFirstName, c.contactLastName, c.country, co.profit\n",
    "FROM customers c\n",
    "JOIN customer_orders co\n",
    "ON c.customerNumber = co.customerNumber\n",
    "ORDER BY co.profit DESC\n",
    "LIMIT 5;"
   ]
  },
  {
   "cell_type": "markdown",
   "metadata": {},
   "source": [
    "The most profitable customers, such as customer number 141 (Euro+ Shopping Channel, Spain) and 124 (Mini Gifts Distributors Ltd., USA), generate profits exceeding $300,000 and $230,000 respectively. The top 5 customers contribute significantly to overall profitability, with a notable concentration in the USA and Europe."
   ]
  },
  {
   "cell_type": "markdown",
   "metadata": {},
   "source": [
    "## least profitable customers"
   ]
  },
  {
   "cell_type": "code",
   "execution_count": 20,
   "metadata": {},
   "outputs": [
    {
     "name": "stdout",
     "output_type": "stream",
     "text": [
      " * sqlite:///stores.db\n",
      "Done.\n"
     ]
    },
    {
     "data": {
      "text/html": [
       "<table>\n",
       "    <thead>\n",
       "        <tr>\n",
       "            <th>customerName</th>\n",
       "            <th>customerNumber</th>\n",
       "            <th>contactFirstName</th>\n",
       "            <th>contactLastName</th>\n",
       "            <th>country</th>\n",
       "            <th>profit</th>\n",
       "        </tr>\n",
       "    </thead>\n",
       "    <tbody>\n",
       "        <tr>\n",
       "            <td>Boards &amp; Toys Co.</td>\n",
       "            <td>219</td>\n",
       "            <td>Mary</td>\n",
       "            <td>Young</td>\n",
       "            <td>USA</td>\n",
       "            <td>2610.870000000001</td>\n",
       "        </tr>\n",
       "        <tr>\n",
       "            <td>Auto-Moto Classics Inc.</td>\n",
       "            <td>198</td>\n",
       "            <td>Leslie</td>\n",
       "            <td>Taylor</td>\n",
       "            <td>USA</td>\n",
       "            <td>6586.0199999999995</td>\n",
       "        </tr>\n",
       "        <tr>\n",
       "            <td>Frau da Collezione</td>\n",
       "            <td>473</td>\n",
       "            <td>Franco</td>\n",
       "            <td>Ricotti</td>\n",
       "            <td>Italy</td>\n",
       "            <td>9532.93</td>\n",
       "        </tr>\n",
       "        <tr>\n",
       "            <td>Atelier graphique</td>\n",
       "            <td>103</td>\n",
       "            <td>Carine </td>\n",
       "            <td>Schmitt</td>\n",
       "            <td>France</td>\n",
       "            <td>10063.800000000001</td>\n",
       "        </tr>\n",
       "        <tr>\n",
       "            <td>Double Decker Gift Stores, Ltd</td>\n",
       "            <td>489</td>\n",
       "            <td>Thomas </td>\n",
       "            <td>Smith</td>\n",
       "            <td>UK</td>\n",
       "            <td>10868.04</td>\n",
       "        </tr>\n",
       "    </tbody>\n",
       "</table>"
      ],
      "text/plain": [
       "[('Boards & Toys Co.', 219, 'Mary', 'Young', 'USA', 2610.870000000001),\n",
       " ('Auto-Moto Classics Inc.', 198, 'Leslie', 'Taylor', 'USA', 6586.0199999999995),\n",
       " ('Frau da Collezione', 473, 'Franco', 'Ricotti', 'Italy', 9532.93),\n",
       " ('Atelier graphique', 103, 'Carine ', 'Schmitt', 'France', 10063.800000000001),\n",
       " ('Double Decker Gift Stores, Ltd', 489, 'Thomas ', 'Smith', 'UK', 10868.04)]"
      ]
     },
     "execution_count": 20,
     "metadata": {},
     "output_type": "execute_result"
    }
   ],
   "source": [
    "%%sql\n",
    "WITH customer_orders AS (\n",
    "  SELECT orders.customerNumber, SUM(quantityOrdered * (priceEach - buyPrice)) AS profit\n",
    "  FROM products\n",
    "  JOIN orderdetails\n",
    "  ON products.productCode = orderdetails.productCode\n",
    "  JOIN orders\n",
    "  ON orders.orderNumber = orderdetails.orderNumber\n",
    "  GROUP BY orders.customerNumber\n",
    ")\n",
    "\n",
    "SELECT c.customerName, c.customerNumber, c.contactFirstName, c.contactLastName, c.country, co.profit\n",
    "FROM customers c\n",
    "JOIN customer_orders co\n",
    "ON c.customerNumber = co.customerNumber\n",
    "ORDER BY co.profit\n",
    "LIMIT 5;"
   ]
  },
  {
   "cell_type": "markdown",
   "metadata": {},
   "source": [
    "The least profitable customers generate minimal revenue. It may be beneficial to analyze their purchasing patterns and consider targeted marketing or cross-selling strategies to increase their value, or to focus resources on more profitable segments."
   ]
  },
  {
   "cell_type": "markdown",
   "metadata": {},
   "source": [
    "## customer acquisition trends"
   ]
  },
  {
   "cell_type": "code",
   "execution_count": 9,
   "metadata": {},
   "outputs": [
    {
     "name": "stdout",
     "output_type": "stream",
     "text": [
      " * sqlite:///stores.db\n",
      "Done.\n"
     ]
    },
    {
     "data": {
      "text/html": [
       "<table>\n",
       "    <thead>\n",
       "        <tr>\n",
       "            <th>year_month</th>\n",
       "            <th>number_of_new_customers_props</th>\n",
       "            <th>new_customers_total_props</th>\n",
       "        </tr>\n",
       "    </thead>\n",
       "    <tbody>\n",
       "        <tr>\n",
       "            <td>200301</td>\n",
       "            <td>100.0</td>\n",
       "            <td>100.0</td>\n",
       "        </tr>\n",
       "        <tr>\n",
       "            <td>200302</td>\n",
       "            <td>100.0</td>\n",
       "            <td>100.0</td>\n",
       "        </tr>\n",
       "        <tr>\n",
       "            <td>200303</td>\n",
       "            <td>100.0</td>\n",
       "            <td>100.0</td>\n",
       "        </tr>\n",
       "        <tr>\n",
       "            <td>200304</td>\n",
       "            <td>100.0</td>\n",
       "            <td>100.0</td>\n",
       "        </tr>\n",
       "        <tr>\n",
       "            <td>200305</td>\n",
       "            <td>83.0</td>\n",
       "            <td>100.0</td>\n",
       "        </tr>\n",
       "        <tr>\n",
       "            <td>200306</td>\n",
       "            <td>100.0</td>\n",
       "            <td>100.0</td>\n",
       "        </tr>\n",
       "        <tr>\n",
       "            <td>200307</td>\n",
       "            <td>75.0</td>\n",
       "            <td>68.0</td>\n",
       "        </tr>\n",
       "        <tr>\n",
       "            <td>200308</td>\n",
       "            <td>67.0</td>\n",
       "            <td>54.0</td>\n",
       "        </tr>\n",
       "        <tr>\n",
       "            <td>200309</td>\n",
       "            <td>80.0</td>\n",
       "            <td>96.0</td>\n",
       "        </tr>\n",
       "        <tr>\n",
       "            <td>200310</td>\n",
       "            <td>69.0</td>\n",
       "            <td>69.0</td>\n",
       "        </tr>\n",
       "        <tr>\n",
       "            <td>200311</td>\n",
       "            <td>53.0</td>\n",
       "            <td>54.0</td>\n",
       "        </tr>\n",
       "        <tr>\n",
       "            <td>200312</td>\n",
       "            <td>60.0</td>\n",
       "            <td>55.0</td>\n",
       "        </tr>\n",
       "        <tr>\n",
       "            <td>200401</td>\n",
       "            <td>33.0</td>\n",
       "            <td>41.0</td>\n",
       "        </tr>\n",
       "        <tr>\n",
       "            <td>200402</td>\n",
       "            <td>33.0</td>\n",
       "            <td>26.0</td>\n",
       "        </tr>\n",
       "        <tr>\n",
       "            <td>200403</td>\n",
       "            <td>55.0</td>\n",
       "            <td>55.0</td>\n",
       "        </tr>\n",
       "        <tr>\n",
       "            <td>200404</td>\n",
       "            <td>40.0</td>\n",
       "            <td>40.0</td>\n",
       "        </tr>\n",
       "        <tr>\n",
       "            <td>200405</td>\n",
       "            <td>13.0</td>\n",
       "            <td>17.0</td>\n",
       "        </tr>\n",
       "        <tr>\n",
       "            <td>200406</td>\n",
       "            <td>33.0</td>\n",
       "            <td>44.0</td>\n",
       "        </tr>\n",
       "        <tr>\n",
       "            <td>200407</td>\n",
       "            <td>10.0</td>\n",
       "            <td>7.0</td>\n",
       "        </tr>\n",
       "        <tr>\n",
       "            <td>200408</td>\n",
       "            <td>18.0</td>\n",
       "            <td>26.0</td>\n",
       "        </tr>\n",
       "        <tr>\n",
       "            <td>200409</td>\n",
       "            <td>33.0</td>\n",
       "            <td>56.0</td>\n",
       "        </tr>\n",
       "    </tbody>\n",
       "</table>"
      ],
      "text/plain": [
       "[(200301, 100.0, 100.0),\n",
       " (200302, 100.0, 100.0),\n",
       " (200303, 100.0, 100.0),\n",
       " (200304, 100.0, 100.0),\n",
       " (200305, 83.0, 100.0),\n",
       " (200306, 100.0, 100.0),\n",
       " (200307, 75.0, 68.0),\n",
       " (200308, 67.0, 54.0),\n",
       " (200309, 80.0, 96.0),\n",
       " (200310, 69.0, 69.0),\n",
       " (200311, 53.0, 54.0),\n",
       " (200312, 60.0, 55.0),\n",
       " (200401, 33.0, 41.0),\n",
       " (200402, 33.0, 26.0),\n",
       " (200403, 55.0, 55.0),\n",
       " (200404, 40.0, 40.0),\n",
       " (200405, 13.0, 17.0),\n",
       " (200406, 33.0, 44.0),\n",
       " (200407, 10.0, 7.0),\n",
       " (200408, 18.0, 26.0),\n",
       " (200409, 33.0, 56.0)]"
      ]
     },
     "execution_count": 9,
     "metadata": {},
     "output_type": "execute_result"
    }
   ],
   "source": [
    "%%sql\n",
    "\n",
    "WITH\n",
    "\n",
    "payment_with_year_month_table AS (\n",
    "  SELECT *,\n",
    "         CAST(SUBSTR(paymentDate, 1, 4) AS INTEGER)*100 + CAST(SUBSTR(paymentDate, 6, 7) AS INTEGER) AS year_month\n",
    "    FROM payments p\n",
    "),\n",
    "\n",
    "customers_by_month_table AS (\n",
    "  SELECT p1.year_month, COUNT(*) AS number_of_customers, SUM(p1.amount) AS total\n",
    "    FROM payment_with_year_month_table p1\n",
    "   GROUP BY p1.year_month\n",
    "),\n",
    "\n",
    "new_customers_by_month_table AS (\n",
    "  SELECT p1.year_month,\n",
    "         COUNT(DISTINCT customerNumber) AS number_of_new_customers,\n",
    "         SUM(p1.amount) AS new_customer_total,\n",
    "         (SELECT number_of_customers\n",
    "            FROM customers_by_month_table c\n",
    "          WHERE c.year_month = p1.year_month) AS number_of_customers,\n",
    "         (SELECT total\n",
    "            FROM customers_by_month_table c\n",
    "           WHERE c.year_month = p1.year_month) AS total\n",
    "    FROM payment_with_year_month_table p1\n",
    "   WHERE p1.customerNumber NOT IN (SELECT customerNumber\n",
    "                                     FROM payment_with_year_month_table p2\n",
    "                                    WHERE p2.year_month < p1.year_month)\n",
    "   GROUP BY p1.year_month\n",
    ")\n",
    "\n",
    "SELECT year_month,\n",
    "       ROUND(number_of_new_customers * 100.0 / number_of_customers) AS number_of_new_customers_props,\n",
    "       ROUND(new_customer_total * 100.0 / total) AS new_customers_total_props\n",
    "  FROM new_customers_by_month_table;\n"
   ]
  },
  {
   "cell_type": "markdown",
   "metadata": {},
   "source": [
    "The proportion of new customers was very high at the beginning of the period, then gradually declined. This suggests initial market penetration followed by a plateau or market saturation. Revitalizing marketing efforts or exploring new markets may be necessary to boost new customer acquisition."
   ]
  },
  {
   "cell_type": "markdown",
   "metadata": {},
   "source": [
    "## LTV"
   ]
  },
  {
   "cell_type": "code",
   "execution_count": 10,
   "metadata": {},
   "outputs": [
    {
     "name": "stdout",
     "output_type": "stream",
     "text": [
      " * sqlite:///stores.db\n",
      "Done.\n"
     ]
    },
    {
     "data": {
      "text/html": [
       "<table>\n",
       "    <thead>\n",
       "        <tr>\n",
       "            <th>ltv</th>\n",
       "        </tr>\n",
       "    </thead>\n",
       "    <tbody>\n",
       "        <tr>\n",
       "            <td>39039.5943877551</td>\n",
       "        </tr>\n",
       "    </tbody>\n",
       "</table>"
      ],
      "text/plain": [
       "[(39039.5943877551,)]"
      ]
     },
     "execution_count": 10,
     "metadata": {},
     "output_type": "execute_result"
    }
   ],
   "source": [
    "%%sql\n",
    "\n",
    "WITH\n",
    "\n",
    "money_in_by_customer_table AS (\n",
    "SELECT o.customerNumber, SUM(quantityOrdered * (priceEach - buyPrice)) AS revenue\n",
    "  FROM products p\n",
    "  JOIN orderdetails od\n",
    "    ON p.productCode = od.productCode\n",
    "  JOIN orders o\n",
    "    ON o.orderNumber = od.orderNumber\n",
    " GROUP BY o.customerNumber\n",
    ")\n",
    "\n",
    "SELECT AVG(mc.revenue) AS ltv\n",
    "  FROM money_in_by_customer_table mc;"
   ]
  },
  {
   "cell_type": "markdown",
   "metadata": {},
   "source": [
    "The average customer lifetime value is about $39,040, which is substantial. This underscores the importance of focusing on customer retention and satisfaction, as each customer represents significant long-term revenue potential."
   ]
  }
 ],
 "metadata": {
  "kernelspec": {
   "display_name": "Python 3",
   "language": "python",
   "name": "python3"
  },
  "language_info": {
   "codemirror_mode": {
    "name": "ipython",
    "version": 3
   },
   "file_extension": ".py",
   "mimetype": "text/x-python",
   "name": "python",
   "nbconvert_exporter": "python",
   "pygments_lexer": "ipython3",
   "version": "3.9.6"
  }
 },
 "nbformat": 4,
 "nbformat_minor": 2
}
